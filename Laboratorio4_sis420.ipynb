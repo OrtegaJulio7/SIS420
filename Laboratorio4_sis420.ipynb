{
  "cells": [
    {
      "cell_type": "markdown",
      "metadata": {
        "id": "xTjmiqnfSxgG"
      },
      "source": [
        "# Clasificación multiclase\n",
        "\n",
        "## Introduction\n",
        "\n",
        "En este ejercicio se implementa la regresion one-vs-all y una red neuronal para reconocimiento de digitos.\n",
        "Dataset:https://www.kaggle.com/datasets/colewelkins/cardiovascular-disease"
      ]
    },
    {
      "cell_type": "code",
      "source": [
        "from google.colab import drive\n",
        "drive.mount('/content/drive')"
      ],
      "metadata": {
        "colab": {
          "base_uri": "https://localhost:8080/"
        },
        "id": "clyp4NcQycWP",
        "outputId": "e71117e4-da31-4124-e493-19d89e35b4fa"
      },
      "execution_count": 33,
      "outputs": [
        {
          "output_type": "stream",
          "name": "stdout",
          "text": [
            "Drive already mounted at /content/drive; to attempt to forcibly remount, call drive.mount(\"/content/drive\", force_remount=True).\n"
          ]
        }
      ]
    },
    {
      "cell_type": "code",
      "execution_count": 34,
      "metadata": {
        "id": "20Q29kX8SxgJ"
      },
      "outputs": [],
      "source": [
        "# utilizado para la manipulación de directorios y rutas\n",
        "import os\n",
        "\n",
        "# Cálculo científico y vectorial para python\n",
        "import numpy as np\n",
        "\n",
        "# Libreria para graficos\n",
        "from matplotlib import pyplot\n",
        "\n",
        "# Modulo de optimizacion en scipy\n",
        "from scipy import optimize\n",
        "\n",
        "# modulo para cargar archivos en formato MATLAB\n",
        "# from scipy.io import loadmat\n",
        "\n",
        "# le dice a matplotlib que incruste gráficos en el cuaderno\n",
        "%matplotlib inline"
      ]
    },
    {
      "cell_type": "code",
      "execution_count": 35,
      "metadata": {
        "id": "hhRjL2ptSxgK",
        "colab": {
          "base_uri": "https://localhost:8080/"
        },
        "outputId": "06c64de3-314e-4253-af36-25f36efee8a7"
      },
      "outputs": [
        {
          "output_type": "stream",
          "name": "stdout",
          "text": [
            "[[1.83930000e+04 2.00000000e+00 1.68000000e+02 ... 0.00000000e+00\n",
            "  5.00000000e+01 2.19671202e+01]\n",
            " [2.02280000e+04 1.00000000e+00 1.56000000e+02 ... 1.00000000e+00\n",
            "  5.50000000e+01 3.49276792e+01]\n",
            " [1.88570000e+04 1.00000000e+00 1.65000000e+02 ... 1.00000000e+00\n",
            "  5.10000000e+01 2.35078053e+01]\n",
            " ...\n",
            " [1.95540000e+04 1.00000000e+00 1.60000000e+02 ... 1.00000000e+00\n",
            "  5.30000000e+01 3.39843750e+01]\n",
            " [1.89110000e+04 1.00000000e+00 1.53000000e+02 ... 1.00000000e+00\n",
            "  5.10000000e+01 3.11845871e+01]\n",
            " [2.05350000e+04 1.00000000e+00 1.65000000e+02 ... 0.00000000e+00\n",
            "  5.60000000e+01 2.75482094e+01]]\n"
          ]
        }
      ],
      "source": [
        "import pandas as pd\n",
        "import numpy as np\n",
        "\n",
        "# 4 etiquetas, de 0 a 3 (normal = 0, hypertension1 = 1, hypertension2 = 2, Elevated: 3)\n",
        "num_labels = 4\n",
        "\n",
        "# Cargar los datos usando Pandas\n",
        "data = pd.read_csv('/content/drive/MyDrive/datasets/cardio_data_processed.csv')\n",
        "\n",
        "# Omitir la columna 0(no tiene relevancia pq es la numeración de las filas) en X y la columna 17(es una columna repetida de Y)\n",
        "X_test = data.iloc[0:54500, 1:15].values\n",
        "y_test = data.iloc[0:54500:, 16].values\n",
        "\n",
        "X_train = data.iloc[54500:, 1:15].values\n",
        "y_train = data.iloc[54500:, 16].values\n",
        "\n",
        "\n",
        "X=X_test\n",
        "y=y_test\n",
        "\n",
        "#X=X_train\n",
        "#y=y_train\n",
        "\n",
        "# Mapear los valores de la columna 16 según la lógica (normal = 0, hypertension1 = 1, hypertension2 = 2, Elevated: 3)\n",
        "mapping = {\n",
        "    'Hypertension Stage 1': 1,\n",
        "    'Hypertension Stage 2': 2,\n",
        "    'Normal': 0,\n",
        "    'Elevated': 3\n",
        "}\n",
        "\n",
        "# Reemplazar los valores en la columna de etiquetas según el diccionario de mapeo\n",
        "y_mapped = np.array([mapping[val] for val in y])\n",
        "y=y_mapped\n",
        "y[y == 4] = 0\n",
        "\n",
        "\n",
        "\n",
        "print(X)\n",
        "\n",
        "m = y.size"
      ]
    },
    {
      "cell_type": "code",
      "execution_count": 36,
      "metadata": {
        "id": "aw2yVc8ESxgL",
        "outputId": "7bad817c-37c9-4114-95fb-828af5d2baab",
        "colab": {
          "base_uri": "https://localhost:8080/"
        }
      },
      "outputs": [
        {
          "output_type": "stream",
          "name": "stdout",
          "text": [
            "[[1.83930000e+04 2.00000000e+00 1.68000000e+02 ... 0.00000000e+00\n",
            "  5.00000000e+01 2.19671202e+01]\n",
            " [2.02280000e+04 1.00000000e+00 1.56000000e+02 ... 1.00000000e+00\n",
            "  5.50000000e+01 3.49276792e+01]\n",
            " [1.88570000e+04 1.00000000e+00 1.65000000e+02 ... 1.00000000e+00\n",
            "  5.10000000e+01 2.35078053e+01]\n",
            " ...\n",
            " [1.95540000e+04 1.00000000e+00 1.60000000e+02 ... 1.00000000e+00\n",
            "  5.30000000e+01 3.39843750e+01]\n",
            " [1.89110000e+04 1.00000000e+00 1.53000000e+02 ... 1.00000000e+00\n",
            "  5.10000000e+01 3.11845871e+01]\n",
            " [2.05350000e+04 1.00000000e+00 1.65000000e+02 ... 0.00000000e+00\n",
            "  5.60000000e+01 2.75482094e+01]]\n",
            "[1 2 1 ... 2 1 1]\n"
          ]
        }
      ],
      "source": [
        "print(X)\n",
        "print(y)"
      ]
    },
    {
      "cell_type": "code",
      "source": [
        "def  featureNormalize(X):\n",
        "    X_norm = X.copy()\n",
        "    mu = np.zeros(X.shape[1])\n",
        "    sigma = np.zeros(X.shape[1])\n",
        "\n",
        "    mu = np.mean(X, axis = 0)\n",
        "    sigma = np.std(X, axis = 0)\n",
        "    X_norm = (X - mu) / sigma\n",
        "\n",
        "    return X_norm, mu, sigma"
      ],
      "metadata": {
        "id": "HWF5C5Jt8wNb"
      },
      "execution_count": 37,
      "outputs": []
    },
    {
      "cell_type": "code",
      "source": [
        "# llama featureNormalize con los datos cargados\n",
        "X_norm, mu, sigma = featureNormalize(X)"
      ],
      "metadata": {
        "id": "f4W6d-ya1ABV"
      },
      "execution_count": 38,
      "outputs": []
    },
    {
      "cell_type": "code",
      "source": [
        "# Configurar la matriz adecuadamente, y agregar una columna de unos que corresponde al termino de intercepción.\n",
        "m, n = X.shape\n",
        "# Agraga el termino de intercepción a A\n",
        "# X = np.concatenate([np.ones((m, 1)), X_norm], axis=1)\n",
        "X = X_norm\n",
        "# X = np.concatenate([np.ones((m, 1)), X], axis=1)"
      ],
      "metadata": {
        "id": "r9e6MRrW1G22"
      },
      "execution_count": 39,
      "outputs": []
    },
    {
      "cell_type": "code",
      "execution_count": 40,
      "metadata": {
        "id": "B5marXeKSxgM"
      },
      "outputs": [],
      "source": [
        "# Selecciona aleatoriamente 100 puntos de datos para mostrar\n",
        "rand_indices = np.random.choice(m, 100, replace=False)\n",
        "sel = X[rand_indices, :]\n",
        "\n",
        "# displayData(sel)"
      ]
    },
    {
      "cell_type": "code",
      "execution_count": 41,
      "metadata": {
        "id": "0sB9Kyi8SxgN"
      },
      "outputs": [],
      "source": [
        "def sigmoid(z):\n",
        "    \"\"\"\n",
        "    Calcula la sigmoide de z.\n",
        "    \"\"\"\n",
        "    return 1.0 / (1.0 + np.exp(-z))"
      ]
    },
    {
      "cell_type": "code",
      "execution_count": 42,
      "metadata": {
        "id": "w5S0OOswSxgN"
      },
      "outputs": [],
      "source": [
        "def lrCostFunction(theta, X, y, lambda_):\n",
        "    \"\"\"\n",
        "    Calcula el costo de usar theta como parámetro para la regresión logística regularizada y\n",
        "    el gradiente del costo w.r.t. a los parámetros.\n",
        "\n",
        "    Parametros\n",
        "    ----------\n",
        "    theta : array_like\n",
        "        Parametro theta de la regresion logistica. Vector de la forma(shape) (n, ). n es el numero de caracteristicas\n",
        "        incluida la intercepcion\n",
        "\n",
        "    X : array_like\n",
        "        Dataset con la forma(shape) (m x n). m es el numero de ejemplos, y n es el numero de\n",
        "        caracteristicas (incluida la intercepcion).\n",
        "\n",
        "    y : array_like\n",
        "        El conjunto de etiquetas. Un vector con la forma (shape) (m, ). m es el numero de ejemplos\n",
        "\n",
        "    lambda_ : float\n",
        "        Parametro de regularización.\n",
        "\n",
        "    Devuelve\n",
        "    -------\n",
        "    J : float\n",
        "        El valor calculado para la funcion de costo regularizada.\n",
        "\n",
        "    grad : array_like\n",
        "        Un vector de la forma (shape) (n, ) que es el gradiente de la\n",
        "        función de costo con respecto a theta, en los valores actuales de theta..\n",
        "    \"\"\"\n",
        "#     alpha = 0.003\n",
        "#     theta = theta.copy()\n",
        "    # Inicializa algunos valores utiles\n",
        "    m = y.size\n",
        "\n",
        "    # convierte las etiquetas a valores enteros si son boleanos\n",
        "    if y.dtype == bool:\n",
        "        y = y.astype(int)\n",
        "\n",
        "    J = 0\n",
        "    grad = np.zeros(theta.shape)\n",
        "\n",
        "    h = sigmoid(X.dot(theta.T))\n",
        "\n",
        "    temp = theta\n",
        "    temp[0] = 0\n",
        "\n",
        "#     J = (1 / m) * np.sum(-y.dot(np.log(h)) - (1 - y).dot(np.log(1 - h)))\n",
        "    J = (1 / m) * np.sum(-y.dot(np.log(h)) - (1 - y).dot(np.log(1 - h))) + (lambda_ / (2 * m)) * np.sum(np.square(temp))# factor de regularizacion (lambda_ / (2 * m)) * np.sum(np.square(temp))\n",
        "\n",
        "    grad = (1 / m) * (h - y).dot(X)\n",
        "#     theta = theta - (alpha / m) * (h - y).dot(X)\n",
        "    grad = grad + (lambda_ / m) * temp\n",
        "\n",
        "    return J, grad\n",
        "#    return J, theta"
      ]
    },
    {
      "cell_type": "code",
      "execution_count": 43,
      "metadata": {
        "id": "V0rOw5qhSxgN"
      },
      "outputs": [],
      "source": [
        "def oneVsAll(X, y, num_labels, lambda_):\n",
        "    \"\"\"\n",
        "    Trains num_labels logistic regression classifiers and returns\n",
        "    each of these classifiers in a matrix all_theta, where the i-th\n",
        "    row of all_theta corresponds to the classifier for label i.\n",
        "\n",
        "    Parameters\n",
        "    ----------\n",
        "    X : array_like\n",
        "        The input dataset of shape (m x n). m is the number of\n",
        "        data points, and n is the number of features. Note that we\n",
        "        do not assume that the intercept term (or bias) is in X, however\n",
        "        we provide the code below to add the bias term to X.\n",
        "\n",
        "    y : array_like\n",
        "        The data labels. A vector of shape (m, ).\n",
        "\n",
        "    num_labels : int\n",
        "        Number of possible labels.\n",
        "\n",
        "    lambda_ : float\n",
        "        The logistic regularization parameter.\n",
        "\n",
        "    Returns\n",
        "    -------\n",
        "    all_theta : array_like\n",
        "        The trained parameters for logistic regression for each class.\n",
        "        This is a matrix of shape (K x n+1) where K is number of classes\n",
        "        (ie. `numlabels`) and n is number of features without the bias.\n",
        "    \"\"\"\n",
        "    # algunas variables utiles\n",
        "    m, n = X.shape\n",
        "\n",
        "    all_theta = np.zeros((num_labels, n + 1))\n",
        "\n",
        "    # Agrega unos a la matriz X\n",
        "    X = np.concatenate([np.ones((m, 1)), X], axis=1)\n",
        "\n",
        "    for c in np.arange(num_labels):\n",
        "        initial_theta = np.zeros(n + 1)\n",
        "        options = {'maxiter': 50}\n",
        "        res = optimize.minimize(lrCostFunction,\n",
        "                                initial_theta,\n",
        "                                (X, (y == c), lambda_),\n",
        "                                jac=True,\n",
        "                                method='CG',\n",
        "                                options=options)\n",
        "\n",
        "        all_theta[c] = res.x\n",
        "\n",
        "    return all_theta"
      ]
    },
    {
      "cell_type": "code",
      "execution_count": 44,
      "metadata": {
        "id": "w6JbsLLMSxgO",
        "outputId": "4b4cb2dc-5f29-4a8e-83ca-37317e413cd1",
        "colab": {
          "base_uri": "https://localhost:8080/"
        }
      },
      "outputs": [
        {
          "output_type": "stream",
          "name": "stdout",
          "text": [
            "(4, 15)\n"
          ]
        }
      ],
      "source": [
        "lambda_ = 0.1\n",
        "all_theta = oneVsAll(X, y, num_labels, lambda_)\n",
        "print(all_theta.shape)"
      ]
    },
    {
      "cell_type": "code",
      "source": [
        "print(all_theta)"
      ],
      "metadata": {
        "colab": {
          "base_uri": "https://localhost:8080/"
        },
        "id": "V1EfKaiEgtcw",
        "outputId": "5bef5691-3c27-4e01-bedb-cc4dcaa0cc31"
      },
      "execution_count": 45,
      "outputs": [
        {
          "output_type": "stream",
          "name": "stdout",
          "text": [
            "[[-1.26218101e+01 -3.80941399e-02 -9.91916924e-02 -9.01719683e-02\n",
            "   3.18799362e-02 -8.39090987e+00 -4.69723866e+00  1.15729548e-01\n",
            "  -4.72077654e-02 -1.40696353e-02  7.84790924e-03 -7.85849270e-03\n",
            "  -3.44233599e-02 -7.87338663e-02 -2.93515848e-02]\n",
            " [ 3.45243319e-01  1.39911527e-01  1.89508009e-02  1.86282102e-01\n",
            "  -7.78909617e-02 -6.97431297e-01  4.04202806e-01 -5.47149101e-02\n",
            "   2.54813143e-02 -2.13724673e-02 -2.62531274e-02 -2.06861588e-02\n",
            "  -1.00021195e-01  4.51516152e-02  1.15792595e-01]\n",
            " [-3.20542165e+00 -2.13312272e-02 -5.43649006e-04  5.25082401e-02\n",
            "  -1.20657443e-01  1.80245379e+00  2.93425533e+00 -4.62802450e-02\n",
            "   2.49770731e-02 -2.98156260e-02  3.86422410e-04 -9.22946482e-03\n",
            "   5.86024885e-02 -1.54334762e-02  3.86425268e-02]\n",
            " [-4.21032571e+00  2.93229379e-02  7.12184525e-02  1.90799600e-01\n",
            "  -1.43770360e-01  1.00319256e+00 -2.17445955e+00 -1.76302427e-01\n",
            "   3.91727528e-02 -3.77281007e-02  3.43337931e-02 -3.44900202e-02\n",
            "  -2.39380470e-01  5.23853144e-02  1.08217630e-01]]\n"
          ]
        }
      ]
    },
    {
      "cell_type": "code",
      "execution_count": 46,
      "metadata": {
        "id": "PjFoFe1bSxgO"
      },
      "outputs": [],
      "source": [
        "def predictOneVsAll(all_theta, X):\n",
        "    \"\"\"\n",
        "    Devuelve un vector de predicciones para cada ejemplo en la matriz X.\n",
        "    Tenga en cuenta que X contiene los ejemplos en filas.\n",
        "    all_theta es una matriz donde la i-ésima fila es un vector theta de regresión logística entrenada para la i-ésima clase.\n",
        "    Debe establecer p en un vector de valores de 0..K-1 (por ejemplo, p = [0, 2, 0, 1]\n",
        "    predice clases 0, 2, 0, 1 para 4 ejemplos).\n",
        "\n",
        "    Parametros\n",
        "    ----------\n",
        "    all_theta : array_like\n",
        "        The trained parameters for logistic regression for each class.\n",
        "        This is a matrix of shape (K x n+1) where K is number of classes\n",
        "        and n is number of features without the bias.\n",
        "\n",
        "    X : array_like\n",
        "        Data points to predict their labels. This is a matrix of shape\n",
        "        (m x n) where m is number of data points to predict, and n is number\n",
        "        of features without the bias term. Note we add the bias term for X in\n",
        "        this function.\n",
        "\n",
        "    Devuelve\n",
        "    -------\n",
        "    p : array_like\n",
        "        The predictions for each data point in X. This is a vector of shape (m, ).\n",
        "    \"\"\"\n",
        "\n",
        "    m = X.shape[0];\n",
        "    num_labels = all_theta.shape[0]\n",
        "\n",
        "    p = np.zeros(m)\n",
        "\n",
        "    # Add ones to the X data matrix\n",
        "    X = np.concatenate([np.ones((m, 1)), X], axis=1)\n",
        "    p = np.argmax(sigmoid(X.dot(all_theta.T)), axis = 1)\n",
        "\n",
        "    return p"
      ]
    },
    {
      "cell_type": "code",
      "execution_count": 47,
      "metadata": {
        "id": "mE7v5cglSxgO",
        "outputId": "de2f5347-1a64-4484-8b94-c644a8f14131",
        "colab": {
          "base_uri": "https://localhost:8080/"
        }
      },
      "outputs": [
        {
          "output_type": "stream",
          "name": "stdout",
          "text": [
            "(54500, 14)\n",
            "Precision del conjuto de entrenamiento: 89.86%\n",
            "(139, 14)\n",
            "(139, 15)\n",
            "[2 1 2 0 1 1 1 0 0 1 1 1 0 1 1 1 0 0 1 1 1 2 0 2 2 1 1 1 1 1 2 0 1 2 1 1 1\n",
            " 1 2 0 1 2 0 2 2 2 1 1 1 0 2 2 2 1 1 0 1 2 2 0 2 1 1 1 1 1 2 2 0 1 2 0 2 2\n",
            " 1 1 2 2 1 1 1 1 2 1 0 2 2 1 1 2 2 2 2 1 0 0 2 1 1 0 0 1 1 2 1 0 1 0 1 1 0\n",
            " 1 1 2 1 1 0 0 1 1 2 0 2 1 1 2 1 2 1 1 2 1 1 1 1 1 1 1 1]\n",
            "[2 1 2 0 1 1 1 0 0 1 1 1 0 1 1 1 0 0 3 1 1 1 0 2 1 1 1 1 1 1 2 0 1 2 1 1 1\n",
            " 1 2 0 1 2 3 1 2 2 1 1 3 0 2 2 1 1 2 0 1 2 2 0 2 1 1 1 1 1 2 2 0 1 2 0 2 2\n",
            " 1 1 2 2 1 3 3 1 2 1 0 2 2 1 1 2 2 2 2 1 0 0 2 1 1 0 0 1 1 2 1 0 1 0 1 1 0\n",
            " 3 1 2 1 1 0 0 1 1 2 0 2 1 1 2 1 2 1 1 1 1 1 1 1 1 1 1 2]\n"
          ]
        }
      ],
      "source": [
        "print(X.shape)\n",
        "pred = predictOneVsAll(all_theta, X)\n",
        "print('Precision del conjuto de entrenamiento: {:.2f}%'.format(np.mean(pred == y) * 100))\n",
        "XPrueba = X[1:140, :].copy()\n",
        "print(XPrueba.shape)\n",
        "#print(np.ones((1)))\n",
        "#print(XPrueba)\n",
        "#p = np.zeros(1)\n",
        "XPrueba = np.concatenate([np.ones((139, 1)), XPrueba], axis=1)\n",
        "print(XPrueba.shape)\n",
        "p = np.argmax(sigmoid(XPrueba.dot(all_theta.T)), axis = 1)\n",
        "print(p)\n",
        "\n",
        "# displayData(X[1002:1003, :])\n",
        "print(y[1:140])"
      ]
    },
    {
      "cell_type": "code",
      "source": [
        "#usamos x_train para comprobar que el aprendizaje predice los valores de y_train\n",
        "pred = predictOneVsAll(all_theta, X)\n",
        "print('Precision del conjuto de entrenamiento: {:.2f}%'.format(np.mean(pred == y) * 100))\n",
        "XPrueba = X_train[1:140, :].copy()\n",
        "print(XPrueba.shape)\n",
        "#print(np.ones((1)))\n",
        "#print(XPrueba)\n",
        "#p = np.zeros(1)\n",
        "# Normalizar XPrueba utilizando las medias y desviaciones estándar de X_train\n",
        "XPrueba_norm = (XPrueba - mu) / sigma\n",
        "\n",
        "# Agregar la columna de unos\n",
        "XPrueba_norm_con_intercepto = np.concatenate([np.ones((XPrueba_norm.shape[0], 1)), XPrueba_norm], axis=1)\n",
        "\n",
        "# Realizar predicciones en el conjunto de prueba normalizado\n",
        "p = np.argmax(sigmoid(XPrueba_norm_con_intercepto.dot(all_theta.T)), axis=1)\n",
        "print(p)\n",
        "\n",
        "# displayData(X[1002:1003, :])\n",
        "print(y_train[1:140])"
      ],
      "metadata": {
        "colab": {
          "base_uri": "https://localhost:8080/"
        },
        "id": "WOYNuoSO-tEY",
        "outputId": "3a6eb704-e7b0-4248-a9de-b28cfa7a594e"
      },
      "execution_count": 48,
      "outputs": [
        {
          "output_type": "stream",
          "name": "stdout",
          "text": [
            "Precision del conjuto de entrenamiento: 89.86%\n",
            "(139, 14)\n",
            "[1 2 1 1 0 1 2 1 1 1 2 0 2 2 1 2 1 1 1 2 1 1 1 1 1 1 0 2 1 1 1 2 1 1 2 1 1\n",
            " 1 1 1 1 0 2 2 1 2 0 1 0 1 1 1 1 2 2 1 1 1 1 1 1 2 0 1 2 0 0 2 1 2 1 1 1 0\n",
            " 1 1 0 1 2 2 1 0 2 1 1 1 1 2 3 0 1 1 2 2 1 1 1 2 1 2 2 1 1 1 1 1 1 1 0 1 1\n",
            " 1 0 0 0 0 0 1 1 1 1 2 1 1 1 1 1 1 2 2 1 1 1 0 1 1 1 1 1]\n",
            "['Hypertension Stage 1' 'Hypertension Stage 2' 'Hypertension Stage 1'\n",
            " 'Hypertension Stage 1' 'Normal' 'Hypertension Stage 1'\n",
            " 'Hypertension Stage 2' 'Hypertension Stage 1' 'Hypertension Stage 1'\n",
            " 'Hypertension Stage 1' 'Hypertension Stage 2' 'Normal'\n",
            " 'Hypertension Stage 2' 'Hypertension Stage 2' 'Hypertension Stage 1'\n",
            " 'Hypertension Stage 2' 'Hypertension Stage 1' 'Hypertension Stage 1'\n",
            " 'Elevated' 'Hypertension Stage 2' 'Hypertension Stage 1'\n",
            " 'Hypertension Stage 1' 'Hypertension Stage 1' 'Hypertension Stage 1'\n",
            " 'Hypertension Stage 1' 'Hypertension Stage 1' 'Normal'\n",
            " 'Hypertension Stage 2' 'Hypertension Stage 1' 'Hypertension Stage 2'\n",
            " 'Hypertension Stage 1' 'Hypertension Stage 2' 'Elevated'\n",
            " 'Hypertension Stage 1' 'Hypertension Stage 2' 'Hypertension Stage 1'\n",
            " 'Hypertension Stage 1' 'Hypertension Stage 1' 'Hypertension Stage 1'\n",
            " 'Hypertension Stage 1' 'Hypertension Stage 1' 'Normal'\n",
            " 'Hypertension Stage 2' 'Hypertension Stage 2' 'Hypertension Stage 1'\n",
            " 'Hypertension Stage 2' 'Hypertension Stage 1' 'Elevated' 'Normal'\n",
            " 'Hypertension Stage 1' 'Hypertension Stage 1' 'Hypertension Stage 1'\n",
            " 'Hypertension Stage 1' 'Hypertension Stage 2' 'Hypertension Stage 2'\n",
            " 'Hypertension Stage 1' 'Hypertension Stage 1' 'Hypertension Stage 1'\n",
            " 'Hypertension Stage 2' 'Hypertension Stage 1' 'Hypertension Stage 1'\n",
            " 'Hypertension Stage 2' 'Normal' 'Hypertension Stage 1'\n",
            " 'Hypertension Stage 1' 'Normal' 'Normal' 'Hypertension Stage 2'\n",
            " 'Hypertension Stage 1' 'Hypertension Stage 2' 'Hypertension Stage 1'\n",
            " 'Hypertension Stage 1' 'Hypertension Stage 1' 'Normal'\n",
            " 'Hypertension Stage 1' 'Hypertension Stage 1' 'Normal'\n",
            " 'Hypertension Stage 1' 'Hypertension Stage 2' 'Hypertension Stage 2'\n",
            " 'Hypertension Stage 1' 'Normal' 'Hypertension Stage 2'\n",
            " 'Hypertension Stage 1' 'Hypertension Stage 1' 'Hypertension Stage 1'\n",
            " 'Hypertension Stage 1' 'Hypertension Stage 2' 'Hypertension Stage 2'\n",
            " 'Normal' 'Hypertension Stage 1' 'Hypertension Stage 1'\n",
            " 'Hypertension Stage 1' 'Hypertension Stage 2' 'Hypertension Stage 1'\n",
            " 'Hypertension Stage 1' 'Elevated' 'Hypertension Stage 2'\n",
            " 'Hypertension Stage 1' 'Hypertension Stage 2' 'Hypertension Stage 2'\n",
            " 'Hypertension Stage 1' 'Hypertension Stage 1' 'Hypertension Stage 1'\n",
            " 'Hypertension Stage 1' 'Hypertension Stage 1' 'Hypertension Stage 1'\n",
            " 'Hypertension Stage 1' 'Elevated' 'Hypertension Stage 1' 'Elevated'\n",
            " 'Hypertension Stage 1' 'Normal' 'Normal' 'Normal' 'Normal' 'Normal'\n",
            " 'Elevated' 'Hypertension Stage 1' 'Hypertension Stage 1'\n",
            " 'Hypertension Stage 1' 'Hypertension Stage 2' 'Hypertension Stage 1'\n",
            " 'Hypertension Stage 1' 'Hypertension Stage 1' 'Hypertension Stage 1'\n",
            " 'Hypertension Stage 1' 'Hypertension Stage 1' 'Hypertension Stage 2'\n",
            " 'Hypertension Stage 2' 'Hypertension Stage 1' 'Hypertension Stage 1'\n",
            " 'Hypertension Stage 1' 'Hypertension Stage 1' 'Hypertension Stage 1'\n",
            " 'Hypertension Stage 1' 'Hypertension Stage 1' 'Hypertension Stage 1'\n",
            " 'Hypertension Stage 1']\n"
          ]
        }
      ]
    }
  ],
  "metadata": {
    "kernelspec": {
      "display_name": "Python 3",
      "language": "python",
      "name": "python3"
    },
    "language_info": {
      "codemirror_mode": {
        "name": "ipython",
        "version": 3
      },
      "file_extension": ".py",
      "mimetype": "text/x-python",
      "name": "python",
      "nbconvert_exporter": "python",
      "pygments_lexer": "ipython3",
      "version": "3.8.5"
    },
    "colab": {
      "provenance": []
    }
  },
  "nbformat": 4,
  "nbformat_minor": 0
}